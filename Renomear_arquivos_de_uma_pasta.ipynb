{
  "cells": [
    {
      "cell_type": "markdown",
      "metadata": {
        "id": "view-in-github",
        "colab_type": "text"
      },
      "source": [
        "<a href=\"https://colab.research.google.com/github/vjferro/Data-Science-com-Python/blob/main/Renomear_arquivos_de_uma_pasta.ipynb\" target=\"_parent\"><img src=\"https://colab.research.google.com/assets/colab-badge.svg\" alt=\"Open In Colab\"/></a>"
      ]
    },
    {
      "cell_type": "markdown",
      "source": [
        "\n",
        "\n",
        "# Importando Bibliotecas \n",
        "\n"
      ],
      "metadata": {
        "id": "GNodCqiSTxGS"
      },
      "id": "GNodCqiSTxGS"
    },
    {
      "cell_type": "code",
      "execution_count": null,
      "id": "e3dc4308",
      "metadata": {
        "id": "e3dc4308"
      },
      "outputs": [],
      "source": [
        "import pandas as pd\n",
        "import os"
      ]
    },
    {
      "cell_type": "markdown",
      "source": [
        "# Criando dataframe para pegar lista de nomes"
      ],
      "metadata": {
        "id": "xxjp8tlZT-Tm"
      },
      "id": "xxjp8tlZT-Tm"
    },
    {
      "cell_type": "code",
      "execution_count": null,
      "id": "1576e8a0",
      "metadata": {
        "id": "1576e8a0"
      },
      "outputs": [],
      "source": [
        "nomes = pd.read_excel(r'Z:\\Integração Farol\\GESTÃO\\Integração\\RH\\Treinamentos\\Estudos de Caso\\Estudo de Caso Pitanguinha - Manejo Terapêutico.xlsx')"
      ]
    },
    {
      "cell_type": "code",
      "execution_count": null,
      "id": "f8393e3d",
      "metadata": {
        "id": "f8393e3d",
        "outputId": "752c9e71-80e4-485d-9561-8dda6decf3ab"
      },
      "outputs": [
        {
          "data": {
            "text/plain": [
              "Index(['Nome', 'Email', 'Especialidade'], dtype='object')"
            ]
          },
          "execution_count": 14,
          "metadata": {},
          "output_type": "execute_result"
        }
      ],
      "source": [
        "nomes.columns"
      ]
    },
    {
      "cell_type": "code",
      "execution_count": null,
      "id": "5432bf31",
      "metadata": {
        "id": "5432bf31",
        "outputId": "18561579-1066-44e0-d77a-1f8a0422d20f"
      },
      "outputs": [
        {
          "data": {
            "text/plain": [
              "0        Alice Suellen Pereira Santos\n",
              "1                 Amália Maria Balzan\n",
              "2                 Ana Herta de Araújo\n",
              "3      Anne Layse de Oliveira Queiroz\n",
              "4             Carliane Maria da Silva\n",
              "5       Evelyn Karoline C. Lins Viana\n",
              "6           Gabreil Cavalcante Santos\n",
              "7       Iris Ferreira da Costa Soares\n",
              "8           Iris Tamara Marinho Gomes\n",
              "9         Juliete Kethilyn dos Santos\n",
              "10         Kelizane Vieira dos Santos\n",
              "11          Kethilly Vitoria da Silva\n",
              "12     Lays Gabriela Pereira de Souza\n",
              "13         Letícia Guedes de Oliveira\n",
              "14    Malena Rillary da Silva Pereira\n",
              "15       Maria Eduarda Mendonça Silva\n",
              "16              Marília Vitória Gomes\n",
              "17                      Raune Machado\n",
              "18              Thayná Regina V. Lima\n",
              "19                     Victoria Souza\n",
              "20             Wesley Nunes de Farias\n",
              "Name: Nome, dtype: object"
            ]
          },
          "execution_count": 15,
          "metadata": {},
          "output_type": "execute_result"
        }
      ],
      "source": [
        "nomes['Nome']"
      ]
    },
    {
      "cell_type": "markdown",
      "source": [
        "# Transformando uma série e uma lista do python"
      ],
      "metadata": {
        "id": "qDPTC14VUGQ_"
      },
      "id": "qDPTC14VUGQ_"
    },
    {
      "cell_type": "code",
      "execution_count": null,
      "id": "ab6fb951",
      "metadata": {
        "id": "ab6fb951"
      },
      "outputs": [],
      "source": [
        "lista_nomes = list (nomes['Nome'])"
      ]
    },
    {
      "cell_type": "code",
      "execution_count": null,
      "id": "21fa4415",
      "metadata": {
        "id": "21fa4415",
        "outputId": "28fbfe93-b6d2-40f1-f862-40c19bf528d5"
      },
      "outputs": [
        {
          "data": {
            "text/plain": [
              "['Alice Suellen Pereira Santos',\n",
              " 'Amália Maria Balzan',\n",
              " 'Ana Herta de Araújo',\n",
              " 'Anne Layse de Oliveira Queiroz',\n",
              " 'Carliane Maria da Silva',\n",
              " 'Evelyn Karoline C. Lins Viana',\n",
              " 'Gabreil Cavalcante Santos',\n",
              " 'Iris Ferreira da Costa Soares',\n",
              " 'Iris Tamara Marinho Gomes',\n",
              " 'Juliete Kethilyn dos Santos',\n",
              " 'Kelizane Vieira dos Santos',\n",
              " 'Kethilly Vitoria da Silva',\n",
              " 'Lays Gabriela Pereira de Souza',\n",
              " 'Letícia Guedes de Oliveira',\n",
              " 'Malena Rillary da Silva Pereira',\n",
              " 'Maria Eduarda Mendonça Silva',\n",
              " 'Marília Vitória Gomes',\n",
              " 'Raune Machado',\n",
              " 'Thayná Regina V. Lima',\n",
              " 'Victoria Souza',\n",
              " 'Wesley Nunes de Farias']"
            ]
          },
          "execution_count": 17,
          "metadata": {},
          "output_type": "execute_result"
        }
      ],
      "source": [
        "lista_nomes"
      ]
    },
    {
      "cell_type": "markdown",
      "source": [
        "# Loop para concatenar string"
      ],
      "metadata": {
        "id": "i_vwBX3VUZ41"
      },
      "id": "i_vwBX3VUZ41"
    },
    {
      "cell_type": "code",
      "execution_count": null,
      "id": "6490dc39",
      "metadata": {
        "id": "6490dc39"
      },
      "outputs": [],
      "source": [
        "listanova = []\n",
        "for i in lista_nomes:\n",
        "    listanova.append(i +'.pdf')\n",
        "    "
      ]
    },
    {
      "cell_type": "code",
      "execution_count": null,
      "id": "436a87b8",
      "metadata": {
        "id": "436a87b8",
        "outputId": "97cba000-276d-4cea-dab0-a676a586f83d"
      },
      "outputs": [
        {
          "data": {
            "text/plain": [
              "['Alice Suellen Pereira Santos.pdf',\n",
              " 'Amália Maria Balzan.pdf',\n",
              " 'Ana Herta de Araújo.pdf',\n",
              " 'Anne Layse de Oliveira Queiroz.pdf',\n",
              " 'Carliane Maria da Silva.pdf',\n",
              " 'Evelyn Karoline C. Lins Viana.pdf',\n",
              " 'Gabreil Cavalcante Santos.pdf',\n",
              " 'Iris Ferreira da Costa Soares.pdf',\n",
              " 'Iris Tamara Marinho Gomes.pdf',\n",
              " 'Juliete Kethilyn dos Santos.pdf',\n",
              " 'Kelizane Vieira dos Santos.pdf',\n",
              " 'Kethilly Vitoria da Silva.pdf',\n",
              " 'Lays Gabriela Pereira de Souza.pdf',\n",
              " 'Letícia Guedes de Oliveira.pdf',\n",
              " 'Malena Rillary da Silva Pereira.pdf',\n",
              " 'Maria Eduarda Mendonça Silva.pdf',\n",
              " 'Marília Vitória Gomes.pdf',\n",
              " 'Raune Machado.pdf',\n",
              " 'Thayná Regina V. Lima.pdf',\n",
              " 'Victoria Souza.pdf',\n",
              " 'Wesley Nunes de Farias.pdf']"
            ]
          },
          "execution_count": 20,
          "metadata": {},
          "output_type": "execute_result"
        }
      ],
      "source": [
        "listanova"
      ]
    },
    {
      "cell_type": "markdown",
      "source": [
        "# Listando arquivos de uma pasta"
      ],
      "metadata": {
        "id": "avBr85DRUfFm"
      },
      "id": "avBr85DRUfFm"
    },
    {
      "cell_type": "code",
      "execution_count": null,
      "id": "dd86139d",
      "metadata": {
        "id": "dd86139d"
      },
      "outputs": [],
      "source": [
        "arquivos_da_pasta = os.listdir(r'Z:\\Integração Farol\\GESTÃO\\Integração\\RH\\Treinamentos\\Estudos de Caso\\Estudo de Caso - Pitanguinha - Manejo Terapêutico')"
      ]
    },
    {
      "cell_type": "code",
      "execution_count": null,
      "id": "3c845468",
      "metadata": {
        "id": "3c845468",
        "outputId": "5ed630d5-eaff-4c21-cf74-b55232a0c7f8"
      },
      "outputs": [
        {
          "data": {
            "text/plain": [
              "['page_001.pdf',\n",
              " 'page_002.pdf',\n",
              " 'page_003.pdf',\n",
              " 'page_004.pdf',\n",
              " 'page_005.pdf',\n",
              " 'page_006.pdf',\n",
              " 'page_007.pdf',\n",
              " 'page_008.pdf',\n",
              " 'page_009.pdf',\n",
              " 'page_010.pdf',\n",
              " 'page_011.pdf',\n",
              " 'page_012.pdf',\n",
              " 'page_013.pdf',\n",
              " 'page_014.pdf',\n",
              " 'page_015.pdf',\n",
              " 'page_016.pdf',\n",
              " 'page_017.pdf',\n",
              " 'page_018.pdf',\n",
              " 'page_019.pdf',\n",
              " 'page_020.pdf',\n",
              " 'page_021.pdf']"
            ]
          },
          "execution_count": 32,
          "metadata": {},
          "output_type": "execute_result"
        }
      ],
      "source": [
        "arquivos_da_pasta"
      ]
    },
    {
      "cell_type": "markdown",
      "source": [
        "# Instância de uma pasta"
      ],
      "metadata": {
        "id": "k8C75KhQUh_-"
      },
      "id": "k8C75KhQUh_-"
    },
    {
      "cell_type": "code",
      "execution_count": null,
      "id": "79161d98",
      "metadata": {
        "id": "79161d98"
      },
      "outputs": [],
      "source": [
        "folder_path = r'Z:\\Integração Farol\\GESTÃO\\Integração\\RH\\Treinamentos\\Estudos de Caso\\Estudo de Caso - Pitanguinha - Manejo Terapêutico'"
      ]
    },
    {
      "cell_type": "markdown",
      "source": [
        "# loop para renomear arquivos da pasta"
      ],
      "metadata": {
        "id": "NTBGqh2xUlpH"
      },
      "id": "NTBGqh2xUlpH"
    },
    {
      "cell_type": "code",
      "execution_count": null,
      "id": "4cd5fffb",
      "metadata": {
        "id": "4cd5fffb"
      },
      "outputs": [],
      "source": [
        "for i in range(len(arquivos_da_pasta)):\n",
        "    # Cria o caminho completo para o arquivo atual\n",
        "    current_path = os.path.join(folder_path, arquivos_da_pasta[i])\n",
        "    # Cria o caminho completo para o novo nome do arquivo\n",
        "    new_path = os.path.join(folder_path, listanova[i])\n",
        "    # Renomeia o arquivo\n",
        "    os.rename(current_path, new_path)"
      ]
    }
  ],
  "metadata": {
    "kernelspec": {
      "display_name": "Python 3 (ipykernel)",
      "language": "python",
      "name": "python3"
    },
    "language_info": {
      "codemirror_mode": {
        "name": "ipython",
        "version": 3
      },
      "file_extension": ".py",
      "mimetype": "text/x-python",
      "name": "python",
      "nbconvert_exporter": "python",
      "pygments_lexer": "ipython3",
      "version": "3.9.13"
    },
    "colab": {
      "provenance": [],
      "include_colab_link": true
    }
  },
  "nbformat": 4,
  "nbformat_minor": 5
}