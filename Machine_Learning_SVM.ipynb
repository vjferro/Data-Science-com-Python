{
  "nbformat": 4,
  "nbformat_minor": 0,
  "metadata": {
    "kernelspec": {
      "display_name": "Python 3",
      "language": "python",
      "name": "python3"
    },
    "language_info": {
      "codemirror_mode": {
        "name": "ipython",
        "version": 3
      },
      "file_extension": ".py",
      "mimetype": "text/x-python",
      "name": "python",
      "nbconvert_exporter": "python",
      "pygments_lexer": "ipython3",
      "version": "3.7.3"
    },
    "colab": {
      "name": "Machine Learning - SVM.ipynb",
      "provenance": [],
      "include_colab_link": true
    }
  },
  "cells": [
    {
      "cell_type": "markdown",
      "metadata": {
        "id": "view-in-github",
        "colab_type": "text"
      },
      "source": [
        "<a href=\"https://colab.research.google.com/github/vjferro/Data-Science-com-Python/blob/main/Machine_Learning_SVM.ipynb\" target=\"_parent\"><img src=\"https://colab.research.google.com/assets/colab-badge.svg\" alt=\"Open In Colab\"/></a>"
      ]
    },
    {
      "cell_type": "markdown",
      "metadata": {
        "id": "x4wyPX7OMHQS"
      },
      "source": [
        "# Machine Learning - SVM"
      ]
    },
    {
      "cell_type": "markdown",
      "metadata": {
        "id": "j05oIEZqMHQT"
      },
      "source": [
        "* SVM aplicado na classificação de flores e na classificação de músicas do Spotify.\n",
        "* O SVM será utilizado para criação de classificador que identifica possíveis músicas que um usuário poderia gostar.\n",
        "* Iremos treinar o algoritmo, validar o modelo e fazer tunning dos parâmetros do SVM."
      ]
    },
    {
      "cell_type": "markdown",
      "metadata": {
        "id": "mn3VerzjMHQU"
      },
      "source": [
        "## Scripts e Base de dados"
      ]
    },
    {
      "cell_type": "markdown",
      "metadata": {
        "id": "SZstNVZGMHQV"
      },
      "source": [
        "- A base de dados de **músicas do Spotify** bem como o **notebook com os scripts** dessa aula podem ser baixados em nosso Github, [aqui](https://github.com/minerandodados/mdrepo/blob/master/petr4_1_2010_11_2017.csv)\n",
        "- Base de dasos Iris, para conhecer clique [aqui](https://archive.ics.uci.edu/ml/datasets/iris)"
      ]
    },
    {
      "cell_type": "markdown",
      "metadata": {
        "id": "n1nsAxdXMHQt"
      },
      "source": [
        "**Bibliotecas utilizadas**"
      ]
    },
    {
      "cell_type": "code",
      "metadata": {
        "id": "Zw-w0MyuMHQu"
      },
      "source": [
        "from sklearn.model_selection import cross_val_predict\n",
        "from sklearn import metrics\n",
        "import matplotlib.pyplot as plt\n",
        "import pandas as pd\n",
        "import numpy as np\n",
        "from sklearn import svm"
      ],
      "execution_count": null,
      "outputs": []
    },
    {
      "cell_type": "markdown",
      "metadata": {
        "collapsed": true,
        "id": "VjRRnQdGMHQ7"
      },
      "source": [
        "** Importando dataset Iris**"
      ]
    },
    {
      "cell_type": "code",
      "metadata": {
        "id": "6APdHTwIMHQ7"
      },
      "source": [
        "from sklearn import datasets"
      ],
      "execution_count": null,
      "outputs": []
    },
    {
      "cell_type": "code",
      "metadata": {
        "id": "PTShGzdcMHRE"
      },
      "source": [
        "# Carregando o dataset para o array chamado iris\n",
        "iris = datasets.load_iris()"
      ],
      "execution_count": null,
      "outputs": []
    },
    {
      "cell_type": "code",
      "metadata": {
        "id": "0GbSrbxbMHRI"
      },
      "source": [
        "type(iris)"
      ],
      "execution_count": null,
      "outputs": []
    },
    {
      "cell_type": "code",
      "metadata": {
        "id": "-sQxkvGrMHRM"
      },
      "source": [
        "# Visualizando o nome das features\n",
        "iris.feature_names"
      ],
      "execution_count": null,
      "outputs": []
    },
    {
      "cell_type": "code",
      "metadata": {
        "id": "2eWPQZ5fMHRR"
      },
      "source": [
        "# Nome das Classes\n",
        "iris.target_names"
      ],
      "execution_count": null,
      "outputs": []
    },
    {
      "cell_type": "code",
      "metadata": {
        "id": "ejRuRsHcMHRU"
      },
      "source": [
        "# Separando dados de treino.\n",
        "treino = iris.data"
      ],
      "execution_count": null,
      "outputs": []
    },
    {
      "cell_type": "code",
      "metadata": {
        "id": "Ka-2jJ67MHRf"
      },
      "source": [
        "# Separando dados de classes.\n",
        "classes = iris.target"
      ],
      "execution_count": null,
      "outputs": []
    },
    {
      "cell_type": "code",
      "metadata": {
        "id": "u1WOvaeNMHRl"
      },
      "source": [
        "# Visualizando a forma do array dos dados de treino.\n",
        "# Formato (linhas,colunas).\n",
        "treino.shape"
      ],
      "execution_count": null,
      "outputs": []
    },
    {
      "cell_type": "code",
      "metadata": {
        "id": "hZgotEmOMHRo"
      },
      "source": [
        "# Visualizando os dados de treino.\n",
        "treino[:20]"
      ],
      "execution_count": null,
      "outputs": []
    },
    {
      "cell_type": "code",
      "metadata": {
        "id": "jpviGjkdMHRt"
      },
      "source": [
        "# Visualizando a forma do array de classes.\n",
        "classes.shape"
      ],
      "execution_count": null,
      "outputs": []
    },
    {
      "cell_type": "code",
      "metadata": {
        "id": "e51tlSVDMHRx"
      },
      "source": [
        "# Visualizando os dados únicos do array de classes.\n",
        "set(classes)"
      ],
      "execution_count": null,
      "outputs": []
    },
    {
      "cell_type": "code",
      "metadata": {
        "id": "ABSyxKmjMHR0"
      },
      "source": [
        "# Visualizando os dados de classes.\n",
        "classes[:]"
      ],
      "execution_count": null,
      "outputs": []
    },
    {
      "cell_type": "markdown",
      "metadata": {
        "id": "vcte5w24MHR3"
      },
      "source": [
        "# Visualização de dados"
      ]
    },
    {
      "cell_type": "markdown",
      "metadata": {
        "id": "2ePlgZwtMHR3"
      },
      "source": [
        "* **Visualizando a disperssão de dados quanto a classe**"
      ]
    },
    {
      "cell_type": "code",
      "metadata": {
        "id": "TttCEsi1MHR5"
      },
      "source": [
        "# Plota gráfico de disperssão dos dados com relação a classe.\n",
        "# Disperssão dos dados de Sepal width e Sepal Length com as classes(0,1,2)\n",
        "%matplotlib notebook\n",
        "from matplotlib import style\n",
        "style.use(\"ggplot\")\n",
        "#sepal length vs sepal width\n",
        "plt.xlabel('Sepal length')\n",
        "plt.ylabel('Sepal width')\n",
        "plt.title('Sepal width vs Sepal length')\n",
        "plt.scatter(treino[:,0],treino[:,1], c=classes)"
      ],
      "execution_count": null,
      "outputs": []
    },
    {
      "cell_type": "code",
      "metadata": {
        "id": "XtKYPiz_MHR9"
      },
      "source": [
        "# Plota gráfico de disperssão dos dados com relação a classe.\n",
        "# Disperssão dos dados de Petal width e Petal Length com as classes(0,1,2)\n",
        "%matplotlib notebook\n",
        "from matplotlib import style\n",
        "style.use(\"ggplot\")\n",
        "plt.xlabel('Petal length')\n",
        "plt.ylabel('Petal width')\n",
        "plt.title('Petal Width vs Petal Length')\n",
        "plt.scatter(treino[:,2], treino[:,3], c=classes)"
      ],
      "execution_count": null,
      "outputs": []
    },
    {
      "cell_type": "markdown",
      "metadata": {
        "id": "GJ4RpinwMHSA"
      },
      "source": [
        "# Aplicando o SVM"
      ]
    },
    {
      "cell_type": "markdown",
      "metadata": {
        "id": "aK7BubkUMHSA"
      },
      "source": [
        "* Vamos agora aplicar o SVM para classificar flores usando a base de dados Iris."
      ]
    },
    {
      "cell_type": "code",
      "metadata": {
        "id": "gxdBkjuOMHSB"
      },
      "source": [
        "# Usaremos 80% dos dados para treino e 20% para teste.\n",
        "# Visualizando o tamanho dos dados de treino.\n",
        "len(treino[:-30]), len(classes[:-30])"
      ],
      "execution_count": null,
      "outputs": []
    },
    {
      "cell_type": "code",
      "metadata": {
        "id": "khSqyAqVMHSL"
      },
      "source": [
        "# Visualizando os dados de treino\n",
        "treino[:-30]"
      ],
      "execution_count": null,
      "outputs": []
    },
    {
      "cell_type": "code",
      "metadata": {
        "id": "PzbcLm1kMHSR"
      },
      "source": [
        "# Visualiando as classes correspondentes\n",
        "classes[:-30]"
      ],
      "execution_count": null,
      "outputs": []
    },
    {
      "cell_type": "code",
      "metadata": {
        "id": "SwELwfLpMHST"
      },
      "source": [
        "# Treinando o algoritmo de SVM.\n",
        "clf = svm.SVC().fit(treino[:-30],classes[:-30])"
      ],
      "execution_count": null,
      "outputs": []
    },
    {
      "cell_type": "code",
      "metadata": {
        "id": "ClZaoY0aMHSW"
      },
      "source": [
        "# Objeto clf\n",
        "clf"
      ],
      "execution_count": null,
      "outputs": []
    },
    {
      "cell_type": "code",
      "metadata": {
        "id": "mvwkIZCQMHSZ"
      },
      "source": [
        "# Cria um array com os dados de teste\n",
        "# 20% dos dados que não foram testados\n",
        "teste = treino[-30:]"
      ],
      "execution_count": null,
      "outputs": []
    },
    {
      "cell_type": "code",
      "metadata": {
        "id": "82bqlCnQMHSc"
      },
      "source": [
        "# Visualizando os dados de teste\n",
        "teste"
      ],
      "execution_count": null,
      "outputs": []
    },
    {
      "cell_type": "code",
      "metadata": {
        "id": "DaDFD-ySMHSf"
      },
      "source": [
        "# Predizendo valores com a porção de dados de teste\n",
        "clf.predict(teste)"
      ],
      "execution_count": null,
      "outputs": []
    },
    {
      "cell_type": "code",
      "metadata": {
        "id": "_Gwu1sE4MHSn"
      },
      "source": [
        "# Cria um array com as classes dos dados de teste.\n",
        "classes_teste = classes[-30:]"
      ],
      "execution_count": null,
      "outputs": []
    },
    {
      "cell_type": "code",
      "metadata": {
        "id": "UnJ2JzaxMHSq"
      },
      "source": [
        "# Visualizando as classes de teste\n",
        "classes_teste"
      ],
      "execution_count": null,
      "outputs": []
    },
    {
      "cell_type": "markdown",
      "metadata": {
        "id": "RaonGtdsMHSu"
      },
      "source": [
        "## Visualizando os Resultados de Classificação"
      ]
    },
    {
      "cell_type": "code",
      "metadata": {
        "id": "Zj0P7ePkMHSv"
      },
      "source": [
        "# Gráfico de disperssão entre as colunas Sepal Length , Sepatl width e a classe.\n",
        "# Os pontos roxos são pontos no qual o classificador errou.\n",
        "%matplotlib notebook\n",
        "from matplotlib import style\n",
        "style.use(\"ggplot\")\n",
        "plt.xlabel('Sepal length')\n",
        "plt.ylabel('Sepal width')\n",
        "plt.title('Sepal width vs Sepal length')\n",
        "plt.scatter(treino[-30:,0],treino[-30:,1], c=clf.predict(teste))"
      ],
      "execution_count": null,
      "outputs": []
    },
    {
      "cell_type": "code",
      "metadata": {
        "id": "-LTGJgHuMHSz"
      },
      "source": [
        "# Gráfico de disperssão entre as colunas Petal Length , Petal width e a classe.\n",
        "# Os pontos roxos são pontos no qual o classificador errou.\n",
        "%matplotlib notebook\n",
        "from matplotlib import style\n",
        "style.use(\"ggplot\")\n",
        "plt.xlabel('Petal length')\n",
        "plt.ylabel('Petal width')\n",
        "plt.title('Petal Width vs Length')\n",
        "plt.scatter(treino[-30:,2], treino[-30:,3], c=clf.predict(teste))"
      ],
      "execution_count": null,
      "outputs": []
    },
    {
      "cell_type": "code",
      "metadata": {
        "id": "oxeMD-O2MHS4"
      },
      "source": [
        "# Gráfico de instâncias e predição destas.\n",
        "%matplotlib notebook\n",
        "from matplotlib import style\n",
        "style.use(\"ggplot\")\n",
        "plt.xlabel('Amostras')\n",
        "plt.ylabel('Classes')\n",
        "plt.title('Classificacao do SVM')\n",
        "plt.scatter(range(len(classes_teste)),classes_teste,c=clf.predict(teste))"
      ],
      "execution_count": null,
      "outputs": []
    },
    {
      "cell_type": "markdown",
      "metadata": {
        "id": "wBVbJ0BTMHS9"
      },
      "source": [
        "# Matriz de Confusão"
      ]
    },
    {
      "cell_type": "code",
      "metadata": {
        "id": "VJ7CBT9VMHS_"
      },
      "source": [
        "print (pd.crosstab(classes_teste,clf.predict(teste),rownames=['Real'], colnames=['Predito'], margins=True),'')"
      ],
      "execution_count": null,
      "outputs": []
    },
    {
      "cell_type": "markdown",
      "metadata": {
        "id": "MvytUIFBMHTF"
      },
      "source": [
        "# Cross Validation"
      ]
    },
    {
      "cell_type": "code",
      "metadata": {
        "id": "wFLFb9TIMHTG"
      },
      "source": [
        "# Função que retorna a acurácia após fazer um validação cruzada (cross validation)\n",
        "def Acuracia(clf,X,y):\n",
        "    resultados = cross_val_predict(clf, X, y, cv=10)\n",
        "    return metrics.accuracy_score(y,resultados)"
      ],
      "execution_count": null,
      "outputs": []
    },
    {
      "cell_type": "code",
      "metadata": {
        "id": "ye_wi4FrMHTL"
      },
      "source": [
        "Acuracia(clf,treino,classes)"
      ],
      "execution_count": null,
      "outputs": []
    },
    {
      "cell_type": "markdown",
      "metadata": {
        "id": "5cvq00R3MHTO"
      },
      "source": [
        "# Métricas de Avaliação"
      ]
    },
    {
      "cell_type": "code",
      "metadata": {
        "id": "lROHEsi8MHTP"
      },
      "source": [
        "# Imprime as métricas: 'precisão, revocação e Medida F1.\n",
        "resultados = cross_val_predict(clf,treino, classes, cv=10)\n",
        "valor_classes = [0,1,2]\n",
        "print (metrics.classification_report(classes,resultados,valor_classes))"
      ],
      "execution_count": null,
      "outputs": []
    },
    {
      "cell_type": "markdown",
      "metadata": {
        "id": "UgZxOQJaMHTW"
      },
      "source": [
        "# Base de dados de músicas do Spotify"
      ]
    },
    {
      "cell_type": "code",
      "metadata": {
        "id": "y4CxotQtMHTX"
      },
      "source": [
        "# Informações das Features da Base de dados.\n",
        "# https://developer.spotify.com/web-api/get-audio-features/"
      ],
      "execution_count": null,
      "outputs": []
    },
    {
      "cell_type": "code",
      "metadata": {
        "id": "j3vGUHHdMHTZ"
      },
      "source": [
        "dataset = pd.read_csv('data.csv', sep=',')"
      ],
      "execution_count": null,
      "outputs": []
    },
    {
      "cell_type": "code",
      "metadata": {
        "id": "n7jM7TA-MHTc"
      },
      "source": [
        "dataset.head()"
      ],
      "execution_count": null,
      "outputs": []
    },
    {
      "cell_type": "markdown",
      "metadata": {
        "id": "L-YyINA9MHTf"
      },
      "source": [
        "# Análise de Dados"
      ]
    },
    {
      "cell_type": "code",
      "metadata": {
        "id": "-mdNT6TnMHTf"
      },
      "source": [
        "#Checando valores Missing\n",
        "dataset.isnull().sum()"
      ],
      "execution_count": null,
      "outputs": []
    },
    {
      "cell_type": "code",
      "metadata": {
        "scrolled": true,
        "id": "WXuOXx3MMHTj"
      },
      "source": [
        "# Resumo Estatístico da base\n",
        "# Somente dados numéricos\n",
        "dataset.describe()"
      ],
      "execution_count": null,
      "outputs": []
    },
    {
      "cell_type": "code",
      "metadata": {
        "id": "670CM9lQMHTm"
      },
      "source": [
        " # lista estilos disponíveis do Matplotlib\n",
        "plt.style.available"
      ],
      "execution_count": null,
      "outputs": []
    },
    {
      "cell_type": "code",
      "metadata": {
        "id": "GEbmwu7mMHTo"
      },
      "source": [
        "%matplotlib notebook\n",
        "from matplotlib import style\n",
        "style.use(\"seaborn-colorblind\")\n",
        "dataset.plot(x='acousticness', y='danceability', c='target', kind='scatter', colormap='Accent_r')"
      ],
      "execution_count": null,
      "outputs": []
    },
    {
      "cell_type": "code",
      "metadata": {
        "scrolled": false,
        "id": "ifSPPkRPMHTs"
      },
      "source": [
        "%matplotlib notebook\n",
        "from matplotlib import style\n",
        "style.use(\"seaborn-colorblind\")\n",
        "dataset.plot(x='tempo', y='valence', c='target', kind='scatter' , colormap='Accent_r')"
      ],
      "execution_count": null,
      "outputs": []
    },
    {
      "cell_type": "code",
      "metadata": {
        "id": "aYh-h7EAMHTv"
      },
      "source": [
        "%matplotlib notebook\n",
        "from matplotlib import style\n",
        "style.use(\"seaborn-colorblind\")\n",
        "dataset.plot(x='tempo', y='speechiness', c='target', kind='scatter' , colormap='Accent')"
      ],
      "execution_count": null,
      "outputs": []
    },
    {
      "cell_type": "code",
      "metadata": {
        "id": "9I0puAfhMHTy"
      },
      "source": [
        "%matplotlib notebook\n",
        "from matplotlib import style\n",
        "style.use(\"seaborn-colorblind\")\n",
        "dataset.plot(x='danceability', y='energy', c='target', kind='scatter' , colormap='Reds')"
      ],
      "execution_count": null,
      "outputs": []
    },
    {
      "cell_type": "markdown",
      "metadata": {
        "id": "ugSPHXxgMHT2"
      },
      "source": [
        "# Separa a classe dos dados"
      ]
    },
    {
      "cell_type": "code",
      "metadata": {
        "id": "ZSxYZC5aMHT2"
      },
      "source": [
        "classes = dataset['target']\n",
        "dataset.drop('target', axis=1, inplace=True)"
      ],
      "execution_count": null,
      "outputs": []
    },
    {
      "cell_type": "code",
      "metadata": {
        "id": "49jU13hnMHT5"
      },
      "source": [
        "dataset.head(15)"
      ],
      "execution_count": null,
      "outputs": []
    },
    {
      "cell_type": "markdown",
      "metadata": {
        "id": "FcvPJ_2bMHT8"
      },
      "source": [
        "# Pre-processamento de dados"
      ]
    },
    {
      "cell_type": "code",
      "metadata": {
        "id": "WQE7XZV9MHT8"
      },
      "source": [
        "def remove_features(lista_features):\n",
        "    for i in lista_features:\n",
        "        dataset.drop(i, axis=1, inplace=True)\n",
        "    return 0"
      ],
      "execution_count": null,
      "outputs": []
    },
    {
      "cell_type": "code",
      "metadata": {
        "id": "a2XcDC_JMHT-"
      },
      "source": [
        "# Remove features\n",
        "remove_features(['id','song_title'])"
      ],
      "execution_count": null,
      "outputs": []
    },
    {
      "cell_type": "code",
      "metadata": {
        "id": "DpUECzsmMHUE"
      },
      "source": [
        "# Visualizando o dataset\n",
        "dataset.artist.head(10)"
      ],
      "execution_count": null,
      "outputs": []
    },
    {
      "cell_type": "code",
      "metadata": {
        "id": "QADD_CntMHUG"
      },
      "source": [
        "# Visualizando o dataset\n",
        "dataset.info()"
      ],
      "execution_count": null,
      "outputs": []
    },
    {
      "cell_type": "markdown",
      "metadata": {
        "collapsed": true,
        "id": "3G3OPCOFMHUL"
      },
      "source": [
        "# Label Encoder"
      ]
    },
    {
      "cell_type": "markdown",
      "metadata": {
        "id": "DsDkagwIMHUM"
      },
      "source": [
        "* Técnica para codificar valores categoricos em numéricos\n",
        "* Um exemplo seria: a lista de cores: _(‘branco’,’preto’,’amarelo’,’vermelho’,'branco')_\n",
        "* Após aplicar o LabelEncoder esta seria algo como __(1,2,3,4,1)__"
      ]
    },
    {
      "cell_type": "code",
      "metadata": {
        "id": "U4qWM0nrMHUN"
      },
      "source": [
        "from sklearn.preprocessing import LabelEncoder"
      ],
      "execution_count": null,
      "outputs": []
    },
    {
      "cell_type": "code",
      "metadata": {
        "id": "ZIq3_C1FMHUQ"
      },
      "source": [
        "enc = LabelEncoder()"
      ],
      "execution_count": null,
      "outputs": []
    },
    {
      "cell_type": "code",
      "metadata": {
        "id": "m_GW7DZVMHUX"
      },
      "source": [
        "inteiros = enc.fit_transform(dataset['artist'])"
      ],
      "execution_count": null,
      "outputs": []
    },
    {
      "cell_type": "code",
      "metadata": {
        "id": "YG6e1Cv_MHUa"
      },
      "source": [
        "# Visualizando valores únicos.\n",
        "set(inteiros)"
      ],
      "execution_count": null,
      "outputs": []
    },
    {
      "cell_type": "code",
      "metadata": {
        "id": "dGhXwqsyMHUe"
      },
      "source": [
        "# Cria uma nova coluna chamada 'artist_inteiros'\n",
        "dataset['artist_inteiros'] = inteiros"
      ],
      "execution_count": null,
      "outputs": []
    },
    {
      "cell_type": "code",
      "metadata": {
        "id": "f46SSWiqMHUg"
      },
      "source": [
        "dataset.head()"
      ],
      "execution_count": null,
      "outputs": []
    },
    {
      "cell_type": "code",
      "metadata": {
        "id": "H0x3g3xmMHUi"
      },
      "source": [
        "remove_features(['artist'])"
      ],
      "execution_count": null,
      "outputs": []
    },
    {
      "cell_type": "code",
      "metadata": {
        "id": "NlsBD6ClMHUq"
      },
      "source": [
        "# Visualizando o Dataset alterado.\n",
        "dataset.head(20)"
      ],
      "execution_count": null,
      "outputs": []
    },
    {
      "cell_type": "markdown",
      "metadata": {
        "id": "Dx5Pk9p2MHUt"
      },
      "source": [
        "# One Hot Encoding"
      ]
    },
    {
      "cell_type": "markdown",
      "metadata": {
        "id": "WsnLzja8MHUu"
      },
      "source": [
        "* Técnica usada para codificar valores categóricos em númericos.\n",
        "* Cria uma matriz de presença.\n",
        "* Resolve o problema __ordenação__ nos dados gerados pelo LabelEncoder."
      ]
    },
    {
      "cell_type": "code",
      "metadata": {
        "id": "jusNqIrvMHUv"
      },
      "source": [
        "# Apaque a coluna 'Artist'\n",
        "remove_features(['artist'])\n"
      ],
      "execution_count": null,
      "outputs": []
    },
    {
      "cell_type": "code",
      "metadata": {
        "id": "wnPgpuw0MHUx"
      },
      "source": [
        "# Importa o pacote OneHotEncoder\n",
        "from sklearn.preprocessing import OneHotEncoder"
      ],
      "execution_count": null,
      "outputs": []
    },
    {
      "cell_type": "code",
      "metadata": {
        "id": "MFR7K8wYMHU0"
      },
      "source": [
        "# Instancia um objeto do tipo OnehotEncoder\n",
        "ohe = OneHotEncoder()"
      ],
      "execution_count": null,
      "outputs": []
    },
    {
      "cell_type": "code",
      "metadata": {
        "id": "glivTNZiMHU2"
      },
      "source": [
        "dataset.values"
      ],
      "execution_count": null,
      "outputs": []
    },
    {
      "cell_type": "code",
      "metadata": {
        "id": "FQhaNl7RMHU4"
      },
      "source": [
        "# Transforma em arrayn numpy o dataset.\n",
        "dataset_array = dataset.values"
      ],
      "execution_count": null,
      "outputs": []
    },
    {
      "cell_type": "code",
      "metadata": {
        "id": "WnmUTZFAMHU6"
      },
      "source": [
        "# Pega o numero de linhas.\n",
        "num_rows = dataset_array.shape[0]"
      ],
      "execution_count": null,
      "outputs": []
    },
    {
      "cell_type": "code",
      "metadata": {
        "id": "XGKrItX2MHU7"
      },
      "source": [
        "# Visualiza coluna de inteiros\n",
        "dataset_array[:][:,13]\n"
      ],
      "execution_count": null,
      "outputs": []
    },
    {
      "cell_type": "code",
      "metadata": {
        "id": "YMv38C36MHU9"
      },
      "source": [
        "# Transforma a matriz em uma dimensão\n",
        "inteiros = inteiros.reshape(len(inteiros),1)"
      ],
      "execution_count": null,
      "outputs": []
    },
    {
      "cell_type": "code",
      "metadata": {
        "id": "PpEnRXujMHU-"
      },
      "source": [
        "# Criar as novas features a partir da matriz de presença\n",
        "novas_features = ohe.fit_transform(inteiros)"
      ],
      "execution_count": null,
      "outputs": []
    },
    {
      "cell_type": "code",
      "metadata": {
        "id": "EzdeXyZLMHVA"
      },
      "source": [
        "# Imprime as novas features\n",
        "novas_features"
      ],
      "execution_count": null,
      "outputs": []
    },
    {
      "cell_type": "code",
      "metadata": {
        "id": "Elc-ehRFMHVE"
      },
      "source": [
        "# Concatena as novas features ao array\n",
        "dataset_array = np.concatenate([dataset_array, novas_features.toarray()], axis=1)"
      ],
      "execution_count": null,
      "outputs": []
    },
    {
      "cell_type": "code",
      "metadata": {
        "id": "6thK4Ff7MHVG"
      },
      "source": [
        "# Visualizando a quantidade de linhas e colunas da base\n",
        "dataset_array.shape"
      ],
      "execution_count": null,
      "outputs": []
    },
    {
      "cell_type": "code",
      "metadata": {
        "id": "yFilDVtBMHVJ"
      },
      "source": [
        "# Transforma em dataframe e visualiza as colunas\n",
        "dataf = pd.DataFrame(dataset_array)"
      ],
      "execution_count": null,
      "outputs": []
    },
    {
      "cell_type": "code",
      "metadata": {
        "id": "Z4TQzW0QMHVL"
      },
      "source": [
        "dataf.head(100)"
      ],
      "execution_count": null,
      "outputs": []
    },
    {
      "cell_type": "markdown",
      "metadata": {
        "id": "9E5N4OwnMHVO"
      },
      "source": [
        "# Pandas Get_dummies"
      ]
    },
    {
      "cell_type": "markdown",
      "metadata": {
        "id": "9LKo2KzbMHVP"
      },
      "source": [
        "* Cria uma matriz de presença como feito com o OHE."
      ]
    },
    {
      "cell_type": "code",
      "metadata": {
        "id": "UhZFCbV2MHVP"
      },
      "source": [
        "dataset.head()"
      ],
      "execution_count": null,
      "outputs": []
    },
    {
      "cell_type": "code",
      "metadata": {
        "id": "tyWWM7cgMHVR"
      },
      "source": [
        "# Aplicando o get_dummies nos dados.\n",
        "dataset = pd.get_dummies(dataset, columns=['artist'], prefix=['artist'])"
      ],
      "execution_count": null,
      "outputs": []
    },
    {
      "cell_type": "code",
      "metadata": {
        "id": "iRleJFSaMHVT"
      },
      "source": [
        "# Visualizando 'features' geradas.\n",
        "dataset.columns"
      ],
      "execution_count": null,
      "outputs": []
    },
    {
      "cell_type": "code",
      "metadata": {
        "id": "XliyULanMHVU"
      },
      "source": [
        "len(dataset.columns)"
      ],
      "execution_count": null,
      "outputs": []
    },
    {
      "cell_type": "code",
      "metadata": {
        "id": "wDAqAql6MHVX"
      },
      "source": [
        "# Visualizando as colunas\n",
        "dataset.dtypes"
      ],
      "execution_count": null,
      "outputs": []
    },
    {
      "cell_type": "code",
      "metadata": {
        "id": "-4HDC8JJMHVZ"
      },
      "source": [
        "# checando missing values\n",
        "dataset.isnull().sum()"
      ],
      "execution_count": null,
      "outputs": []
    },
    {
      "cell_type": "code",
      "metadata": {
        "id": "XgQDViDpMHVc"
      },
      "source": [
        "# coluna artist\n",
        "len(dataset.columns)"
      ],
      "execution_count": null,
      "outputs": []
    },
    {
      "cell_type": "markdown",
      "metadata": {
        "id": "bJigVUBJMHVe"
      },
      "source": [
        "# Pipeline"
      ]
    },
    {
      "cell_type": "code",
      "metadata": {
        "id": "bWEXfB9lMHVf"
      },
      "source": [
        "# Importe as bibliotecas de Pipelines e Pré-processadores\n",
        "from sklearn.pipeline import Pipeline\n",
        "from sklearn.preprocessing import StandardScaler\n",
        "from sklearn.preprocessing import MinMaxScaler"
      ],
      "execution_count": null,
      "outputs": []
    },
    {
      "cell_type": "code",
      "metadata": {
        "id": "S4QmFmWMMHVi"
      },
      "source": [
        "# Treinando o algoritmo de SVM.\n",
        "clf = svm.SVC().fit(dataset,classes)"
      ],
      "execution_count": null,
      "outputs": []
    },
    {
      "cell_type": "code",
      "metadata": {
        "id": "AQ38WRNRMHVk"
      },
      "source": [
        "clf"
      ],
      "execution_count": null,
      "outputs": []
    },
    {
      "cell_type": "code",
      "metadata": {
        "id": "aRKghkZJMHVm"
      },
      "source": [
        "Acuracia(clf,dataset,classes)"
      ],
      "execution_count": null,
      "outputs": []
    },
    {
      "cell_type": "code",
      "metadata": {
        "id": "wR_Zxys4MHVo"
      },
      "source": [
        "# Criando um pipeline\n",
        "pip_1 = Pipeline([\n",
        "    ('scaler',StandardScaler()),\n",
        "    ('clf', svm.SVC())\n",
        "])"
      ],
      "execution_count": null,
      "outputs": []
    },
    {
      "cell_type": "code",
      "metadata": {
        "id": "3l9cIDzrMHVp"
      },
      "source": [
        "# Imprimindo Etapas do Pipeline\n",
        "pip_1.steps"
      ],
      "execution_count": null,
      "outputs": []
    },
    {
      "cell_type": "code",
      "metadata": {
        "id": "kitNwmo_MHVr"
      },
      "source": [
        "# Chama a função acuracia passando os dados de musicas e as classes\n",
        "# Usando o pipeline pip_1\n",
        "Acuracia(pip_1,dataset,classes)"
      ],
      "execution_count": null,
      "outputs": []
    },
    {
      "cell_type": "code",
      "metadata": {
        "id": "0r1zhIYtMHVt"
      },
      "source": [
        "# Criando vários Pipelines\n",
        "pip_2 = Pipeline([\n",
        "    ('min_max_scaler', MinMaxScaler()),\n",
        "    ('clf', svm.SVC())\n",
        "])\n",
        "\n",
        "pip_3 = Pipeline([\n",
        "    ('scaler',StandardScaler()),\n",
        "    ('clf', svm.SVC(kernel='rbf'))\n",
        "])\n",
        "\n",
        "pip_4 = Pipeline([\n",
        "    ('scaler',StandardScaler()),\n",
        "    ('clf', svm.SVC(kernel='poly'))\n",
        "])\n",
        "\n",
        "pip_5 = Pipeline([\n",
        "    ('scaler',StandardScaler()),\n",
        "    ('clf', svm.SVC(kernel='linear'))\n",
        "])"
      ],
      "execution_count": null,
      "outputs": []
    },
    {
      "cell_type": "code",
      "metadata": {
        "id": "01UK8v40MHVv"
      },
      "source": [
        "# Chama a função acuracia passando os dados de musicas e as classes\n",
        "# Usando o pipeline pip_2\n",
        "Acuracia(pip_2,dataset,classes)"
      ],
      "execution_count": null,
      "outputs": []
    },
    {
      "cell_type": "markdown",
      "metadata": {
        "id": "fEPWD1NNMHVx"
      },
      "source": [
        "# Teste com apenas labelEncoder nos dados"
      ]
    },
    {
      "cell_type": "code",
      "metadata": {
        "id": "ks-LVbY0MHVx"
      },
      "source": [
        "# Teste com apenas LabelEncoder na coluna 'artist' usando o pipeline 'pip_1'\n",
        "Acuracia(pip_1,dataset,classes)"
      ],
      "execution_count": null,
      "outputs": []
    },
    {
      "cell_type": "code",
      "metadata": {
        "id": "EmJA7_1gMHVy"
      },
      "source": [
        "# # Teste com apenas LabelEncoder na coluna 'artist' usando o pipeline 'pip_1'\n",
        "Acuracia(pip_2,dataset,classes)"
      ],
      "execution_count": null,
      "outputs": []
    },
    {
      "cell_type": "markdown",
      "metadata": {
        "collapsed": true,
        "id": "eUQ1hIRNMHV0"
      },
      "source": [
        "# Testando o Desempenho dos Kernels"
      ]
    },
    {
      "cell_type": "code",
      "metadata": {
        "id": "Iib5LEs1MHV0"
      },
      "source": [
        "# Testando o Kernel RBF\n",
        "Acuracia(pip_3,dataset,classes)"
      ],
      "execution_count": null,
      "outputs": []
    },
    {
      "cell_type": "code",
      "metadata": {
        "id": "e3WAhIA1MHV1"
      },
      "source": [
        "# Teste de kernel poly\n",
        "Acuracia(pip_4,dataset,classes)"
      ],
      "execution_count": null,
      "outputs": []
    },
    {
      "cell_type": "code",
      "metadata": {
        "id": "CW_NnuyAMHV3"
      },
      "source": [
        "# Teste de Kernel linear\n",
        "Acuracia(pip_5,dataset,classes)"
      ],
      "execution_count": null,
      "outputs": []
    },
    {
      "cell_type": "markdown",
      "metadata": {
        "id": "ooCY9ZHAMQO3"
      },
      "source": [
        "## Teste de Overfitting"
      ]
    },
    {
      "cell_type": "code",
      "metadata": {
        "id": "6-ff7KHyMYdU"
      },
      "source": [
        "# Utiliza a função train_test_split para separar conjunto de treino e teste em 80/20\n",
        "from sklearn.model_selection import train_test_split\n",
        "X_train, X_test, y_train, y_test = train_test_split(dataset, classes, test_size=0.2, random_state=123)"
      ],
      "execution_count": null,
      "outputs": []
    },
    {
      "cell_type": "code",
      "metadata": {
        "id": "xk4zXH_fMWO1"
      },
      "source": [
        "# Scala os dados de treino e teste.\n",
        "scaler = StandardScaler().fit(X_train)\n",
        "X_train = scaler.transform(X_train)\n",
        "\n",
        "scaler2 = StandardScaler().fit(X_test)\n",
        "X_test = scaler2.transform(X_test)"
      ],
      "execution_count": null,
      "outputs": []
    },
    {
      "cell_type": "code",
      "metadata": {
        "id": "iViTws-qMc9v"
      },
      "source": [
        "# Treina o algoritmo\n",
        "clf.fit(X_train, y_train)"
      ],
      "execution_count": null,
      "outputs": []
    },
    {
      "cell_type": "code",
      "metadata": {
        "id": "we8prdS5Mc62"
      },
      "source": [
        "# Resultados de predição.\n",
        "y_pred  = clf.predict(X_test)"
      ],
      "execution_count": null,
      "outputs": []
    },
    {
      "cell_type": "code",
      "metadata": {
        "id": "CBZdv6smMcyl"
      },
      "source": [
        "# Imprime a acurácia.\n",
        "metrics.accuracy_score(y_test,y_pred)"
      ],
      "execution_count": null,
      "outputs": []
    },
    {
      "cell_type": "code",
      "metadata": {
        "id": "2770_xAvMcmF"
      },
      "source": [
        "# Testando a classificação com o próprio teste"
      ],
      "execution_count": null,
      "outputs": []
    },
    {
      "cell_type": "code",
      "metadata": {
        "id": "CY-7lYhyMj2X"
      },
      "source": [
        "# Resultados de predição\n",
        "y_pred  = clf.predict(X_train)"
      ],
      "execution_count": null,
      "outputs": []
    },
    {
      "cell_type": "code",
      "metadata": {
        "id": "0xxvTGXNMmy3"
      },
      "source": [
        "# Imprime a Acurácia.\n",
        "metrics.accuracy_score(y_train,y_pred)"
      ],
      "execution_count": null,
      "outputs": []
    },
    {
      "cell_type": "markdown",
      "metadata": {
        "id": "h99Sbmi5MHV5"
      },
      "source": [
        "\n",
        "# Tunning"
      ]
    },
    {
      "cell_type": "code",
      "metadata": {
        "id": "rtweUoSeMHV5"
      },
      "source": [
        "# Importa o utilitário GridSearchCV\n",
        "from sklearn.model_selection import GridSearchCV"
      ],
      "execution_count": 1,
      "outputs": []
    },
    {
      "cell_type": "code",
      "metadata": {
        "id": "87850wB2MHV9"
      },
      "source": [
        "# Lista de Valores de C\n",
        "lista_C = [0.001, 0.01, 0.1, 1, 10, 100]\n",
        "\n",
        "# Lista de Valores de gamma\n",
        "lista_gamma = [0.001, 0.01, 0.1, 1, 10, 100]"
      ],
      "execution_count": 2,
      "outputs": []
    },
    {
      "cell_type": "code",
      "metadata": {
        "id": "NHOPK-iOMHV_"
      },
      "source": [
        "# Define um dicionário que recebe as listas de parâmetros e valores.\n",
        "parametros_grid = dict(clf__C=lista_C, clf__gamma=lista_gamma)"
      ],
      "execution_count": 3,
      "outputs": []
    },
    {
      "cell_type": "code",
      "metadata": {
        "id": "3I8ITMPZMHWA",
        "colab": {
          "base_uri": "https://localhost:8080/"
        },
        "outputId": "6ba375ab-8ce4-49cb-dbe1-d35d091b81b2"
      },
      "source": [
        "parametros_grid"
      ],
      "execution_count": 4,
      "outputs": [
        {
          "output_type": "execute_result",
          "data": {
            "text/plain": [
              "{'clf__C': [0.001, 0.01, 0.1, 1, 10, 100],\n",
              " 'clf__gamma': [0.001, 0.01, 0.1, 1, 10, 100]}"
            ]
          },
          "metadata": {},
          "execution_count": 4
        }
      ]
    },
    {
      "cell_type": "code",
      "metadata": {
        "id": "cwkQgN0TMHWB",
        "colab": {
          "base_uri": "https://localhost:8080/",
          "height": 184
        },
        "outputId": "1b98c730-e7b4-4a94-e5e1-0ffdc480b0c9"
      },
      "source": [
        "# Objeto Grid recebe parâmetros de Pipeline, e configurações de cross validation\n",
        "grid = GridSearchCV(pip_3, parametros_grid, cv=10, scoring='accuracy')"
      ],
      "execution_count": 5,
      "outputs": [
        {
          "output_type": "error",
          "ename": "NameError",
          "evalue": "ignored",
          "traceback": [
            "\u001b[0;31m---------------------------------------------------------------------------\u001b[0m",
            "\u001b[0;31mNameError\u001b[0m                                 Traceback (most recent call last)",
            "\u001b[0;32m<ipython-input-5-7b3fd7149728>\u001b[0m in \u001b[0;36m<module>\u001b[0;34m()\u001b[0m\n\u001b[1;32m      1\u001b[0m \u001b[0;31m# Objeto Grid recebe parâmetros de Pipeline, e configurações de cross validation\u001b[0m\u001b[0;34m\u001b[0m\u001b[0;34m\u001b[0m\u001b[0;34m\u001b[0m\u001b[0m\n\u001b[0;32m----> 2\u001b[0;31m \u001b[0mgrid\u001b[0m \u001b[0;34m=\u001b[0m \u001b[0mGridSearchCV\u001b[0m\u001b[0;34m(\u001b[0m\u001b[0mpip_3\u001b[0m\u001b[0;34m,\u001b[0m \u001b[0mparametros_grid\u001b[0m\u001b[0;34m,\u001b[0m \u001b[0mcv\u001b[0m\u001b[0;34m=\u001b[0m\u001b[0;36m10\u001b[0m\u001b[0;34m,\u001b[0m \u001b[0mscoring\u001b[0m\u001b[0;34m=\u001b[0m\u001b[0;34m'accuracy'\u001b[0m\u001b[0;34m)\u001b[0m\u001b[0;34m\u001b[0m\u001b[0;34m\u001b[0m\u001b[0m\n\u001b[0m",
            "\u001b[0;31mNameError\u001b[0m: name 'pip_3' is not defined"
          ]
        }
      ]
    },
    {
      "cell_type": "code",
      "metadata": {
        "id": "VbHdGCWJMHWD"
      },
      "source": [
        "# Aplica o gridsearch passando os dados de treino e classes.\n",
        "grid.fit(dataset,classes)"
      ],
      "execution_count": null,
      "outputs": []
    },
    {
      "cell_type": "markdown",
      "metadata": {
        "id": "HcA8qRLNMHWG"
      },
      "source": [
        "# Resultados de Grid"
      ]
    },
    {
      "cell_type": "code",
      "metadata": {
        "id": "r6WX6ygwMHWG"
      },
      "source": [
        "# Imprime os scores por combinações\n",
        "grid.grid_scores_"
      ],
      "execution_count": null,
      "outputs": []
    },
    {
      "cell_type": "code",
      "metadata": {
        "id": "XrA6Nj0mMHWI"
      },
      "source": [
        "# Imprime os melhores parâmetros\n",
        "grid.best_params_"
      ],
      "execution_count": null,
      "outputs": []
    },
    {
      "cell_type": "code",
      "metadata": {
        "id": "LqcYa4P9MHWJ"
      },
      "source": [
        "grid.best_score_"
      ],
      "execution_count": null,
      "outputs": []
    }
  ]
}